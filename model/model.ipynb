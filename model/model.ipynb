{
 "cells": [
  {
   "cell_type": "code",
   "execution_count": null,
   "metadata": {},
   "outputs": [
    {
     "name": "stdout",
     "output_type": "stream",
     "text": [
      "Processed 532 recipes.\n"
     ]
    }
   ],
   "source": [
    "import json\n",
    "import faiss\n",
    "import pickle\n",
    "import pandas as pd\n",
    "from sentence_transformers import SentenceTransformer\n",
    "\n",
    "with open(\"final_all_recipes.json\", \"r\", encoding=\"utf-8\") as file:\n",
    "    data = json.load(file)\n",
    "\n",
    "recipes = []\n",
    "for recipe in data[\"payload\"][\"data\"]:\n",
    "    recipes.append({\n",
    "        \"title\": recipe[\"Recipe_title\"],\n",
    "        \"description\": recipe[\"description\"],\n",
    "        \"url\": recipe[\"url\"],\n",
    "        \"img_url\": recipe.get(\"img_url\", \"\"),\n",
    "        \"youtube_video\": recipe.get(\"youtube_video\", \"\"),\n",
    "        \"Sub_region\": recipe.get(\"Sub_region\", \"\"),\n",
    "        \"Calories\": recipe.get(\"Calories\", \"\"),\n",
    "        \"Protein\": recipe.get(\"Protein (g)\", \"\"),\n",
    "        \"Time\": recipe.get(\"total_time\", \"\"),\n",
    "    })\n",
    "\n",
    "df = pd.DataFrame(recipes)\n",
    "df.to_csv(\"recipes_cleaned.csv\", index=False)\n",
    "\n",
    "print(f\"Processed {len(df)} recipes.\")"
   ]
  },
  {
   "cell_type": "code",
   "execution_count": null,
   "metadata": {},
   "outputs": [
    {
     "name": "stdout",
     "output_type": "stream",
     "text": [
      "FAISS index and metadata saved!\n"
     ]
    }
   ],
   "source": [
    "embed_model = SentenceTransformer(\"all-MiniLM-L6-v2\")\n",
    "\n",
    "df[\"text_for_embedding\"] = (\n",
    "    \"Title: \" + df[\"title\"] + \" | Description: \" + df[\"description\"] +\n",
    "    \" | Sub_region: \" + df[\"Sub_region\"] + \" | Calories: \" + df[\"Calories\"].astype(str) +\n",
    "    \" | Protein: \" + df[\"Protein\"].astype(str) + \"g | Time: \" + df[\"Time\"].astype(str) + \" minutes\"\n",
    ")\n",
    "\n",
    "embeddings = embed_model.encode(df[\"text_for_embedding\"].tolist(), convert_to_numpy=True)\n",
    "\n",
    "dimension = embeddings.shape[1]\n",
    "index = faiss.IndexFlatL2(dimension)\n",
    "index.add(embeddings)\n",
    "\n",
    "faiss.write_index(index, \"recipes_faiss.index\")\n",
    "\n",
    "with open(\"recipes_metadata.pkl\", \"wb\") as f:\n",
    "    pickle.dump(df, f)\n",
    "\n",
    "print(\"FAISS index and metadata saved!\")"
   ]
  },
  {
   "cell_type": "markdown",
   "metadata": {},
   "source": [
    "# Model"
   ]
  },
  {
   "cell_type": "code",
   "execution_count": 18,
   "metadata": {},
   "outputs": [],
   "source": [
    "import re\n",
    "import torch\n",
    "import faiss\n",
    "import os\n",
    "import pickle\n",
    "from sentence_transformers import CrossEncoder, SentenceTransformer\n",
    "\n",
    "index = faiss.read_index(\"recipes_faiss.index\")\n",
    "\n",
    "with open(\"recipes_metadata.pkl\", \"rb\") as f:\n",
    "    df = pickle.load(f)\n",
    "    \n",
    "embed_model = SentenceTransformer(\"all-MiniLM-L6-v2\")\n",
    "cross_encoder = CrossEncoder(\"cross-encoder/ms-marco-MiniLM-L-6-v2\")"
   ]
  },
  {
   "cell_type": "code",
   "execution_count": 19,
   "metadata": {},
   "outputs": [],
   "source": [
    "def safe_float(value, default=0.0):\n",
    "    try:\n",
    "        return float(value)\n",
    "    except:\n",
    "        return default\n",
    "\n",
    "def search_recipe(query, k=3, top_n=50):\n",
    "    protein_match = re.search(r'(\\d+)\\s*(g|grams?)\\s+protein', query, re.I)\n",
    "    protein_req = float(protein_match.group(1)) if protein_match else None\n",
    "\n",
    "    time_match = re.search(r'within (\\d+) minutes', query, re.I)\n",
    "    time_req = float(time_match.group(1)) if time_match else None\n",
    "\n",
    "    region_match = re.search(r'in (\\w+) region', query, re.I)\n",
    "    region_req = region_match.group(1) if region_match else None\n",
    "\n",
    "    structured_parts = []\n",
    "    if protein_req: structured_parts.append(f\"{protein_req}g protein\")\n",
    "    if time_req: structured_parts.append(f\"{time_req} minutes\")\n",
    "    if region_req: structured_parts.append(f\"{region_req} cuisine\")\n",
    "\n",
    "    structured_query = \" | \".join([\"Recipe search:\"] + structured_parts + [\"Original query:\", query])\n",
    "\n",
    "    query_embedding = embed_model.encode([structured_query], convert_to_numpy=True)\n",
    "\n",
    "    D, I = index.search(query_embedding, top_n)\n",
    "\n",
    "    candidates = []\n",
    "    for idx, distance in zip(I[0], D[0]):\n",
    "        recipe = df.iloc[idx].to_dict()\n",
    "        score = 1 / (1 + distance)\n",
    "        candidates.append((score, recipe))\n",
    "\n",
    "    cross_encoder_inputs = [(query, c[1][\"title\"] + \" | \" + c[1][\"description\"]) for c in candidates]\n",
    "\n",
    "    cross_scores = cross_encoder.predict(cross_encoder_inputs)\n",
    "\n",
    "    for i in range(len(candidates)):\n",
    "        candidates[i] = (cross_scores[i], candidates[i][1])\n",
    "\n",
    "    candidates.sort(reverse=True, key=lambda x: x[0])\n",
    "\n",
    "    results = [c[1] for c in candidates[:k]]\n",
    "\n",
    "    return results"
   ]
  },
  {
   "cell_type": "code",
   "execution_count": 22,
   "metadata": {},
   "outputs": [
    {
     "name": "stdout",
     "output_type": "stream",
     "text": [
      "Recipe: Mango Lassi II\n",
      "Description: An Indian yogurt drink - smooth, creamy, and absolutely heavenly!\n",
      "Image: https://images.media-allrecipes.com/userphotos/560x315/199894.jpg\n",
      "URL: https://cosylab.iiitd.edu.in/recipedb2/#/recipe/4682\n",
      "Region: Indian\n",
      "Calories: 482.0\n",
      "Protein: 26.761g\n",
      "Time: 5 minutes\n",
      "YouTube: https://www.youtube.com/results?search_query=How+to+make+Mango+Lassi+II\n",
      "\n",
      "Recipe: Mango Lassi I\n",
      "Description: A cooling drink made with mango and yogurt, Eastern Indian Lassi.\n",
      "Image: https://images.media-allrecipes.com/userphotos/250x250/770743.jpg\n",
      "URL: https://cosylab.iiitd.edu.in/recipedb2/#/recipe/4601\n",
      "Region: Indian\n",
      "Calories: 85.0\n",
      "Protein: 9.8545g\n",
      "Time: 7 minutes\n",
      "YouTube: https://www.youtube.com/results?search_query=How+to+make+Mango+Lassi+I\n",
      "\n",
      "Recipe: Indian Lassi\n",
      "Description: Learn what a lassi drink is with this basic recipe for the popular Indian beverage. You can adjust the amount of yogurt or water for a thicker or thinner consistency. Garnish with fresh mint if desired.\n",
      "Image: https://images.media-allrecipes.com/userphotos/560x315/3623168.jpg\n",
      "URL: https://cosylab.iiitd.edu.in/recipedb2/#/recipe/4585\n",
      "Region: Indian\n",
      "Calories: 50.0\n",
      "Protein: 14.8776g\n",
      "Time: 15 minutes\n",
      "YouTube: https://www.youtube.com/results?search_query=How+to+make+Indian+Lassi\n",
      "\n"
     ]
    }
   ],
   "source": [
    "query = \"high protein Indian drink under 10 minutes\"\n",
    "results = search_recipe(query, k=3)\n",
    "\n",
    "for r in results:\n",
    "    print(f\"Recipe: {r['title']}\")\n",
    "    print(f\"Description: {r['description']}\")\n",
    "    print(f\"Image: {r['img_url']}\")\n",
    "    print(f\"URL: {r['url']}\")\n",
    "    print(f\"Region: {r['Sub_region']}\")\n",
    "    print(f\"Calories: {r['Calories']}\")\n",
    "    print(f\"Protein: {r['Protein']}g\")\n",
    "    print(f\"Time: {r['Time']} minutes\")\n",
    "    print(f\"YouTube: {r['youtube_video']}\\n\")"
   ]
  }
 ],
 "metadata": {
  "kernelspec": {
   "display_name": "Python 3",
   "language": "python",
   "name": "python3"
  },
  "language_info": {
   "codemirror_mode": {
    "name": "ipython",
    "version": 3
   },
   "file_extension": ".py",
   "mimetype": "text/x-python",
   "name": "python",
   "nbconvert_exporter": "python",
   "pygments_lexer": "ipython3",
   "version": "3.11.0"
  }
 },
 "nbformat": 4,
 "nbformat_minor": 2
}
